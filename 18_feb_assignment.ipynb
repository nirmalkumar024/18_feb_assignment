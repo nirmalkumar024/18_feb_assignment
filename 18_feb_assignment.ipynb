{
 "cells": [
  {
   "cell_type": "markdown",
   "id": "f4f64b62-f40d-4c16-9db4-e5a393e1e9fb",
   "metadata": {},
   "source": [
    "Q1. What is an API? Give an example, where an API is used in real life."
   ]
  },
  {
   "cell_type": "markdown",
   "id": "8cb4fb7e-faf2-45b7-8e28-7421038f89ac",
   "metadata": {},
   "source": [
    " API stands for Application Programming Interface. In the context of APIs, the word Application refers to any software with a distinct function. Interface can be thought of as a contract of service between two applications.\n",
    " \n",
    "APIs are used in web applications to connect user-facing front ends with critical back-end functionality and data. APIs are used to deliver material by streaming services such as Spotify and Netflix. APIs are used by automakers such as Tesla to provide software upgrades."
   ]
  },
  {
   "cell_type": "markdown",
   "id": "1f1c9108-a371-4e95-8a3b-0deb8a6036b1",
   "metadata": {},
   "source": [
    "Q2. Give advantages and disadvantages of using API.\n",
    "\n",
    "Advantages of using APIs are following:-\n",
    "\n",
    "1.Interface with other application.\n",
    "2.Easy to understand the action of other application by the api application.\n",
    "3.Increased Flexibility.\n",
    "4.New Revenue Streams.\n",
    "5.Improved Efficiency.\n",
    "\n",
    "Disadvantage of using APIs are following:-\n",
    "\n",
    "1.security perpose not good.\n",
    "2.Deploment complex.\n",
    "3.Complex to understand.\n",
    "4.Dependancy of API developers to interface the program to another program."
   ]
  },
  {
   "cell_type": "markdown",
   "id": "c4d2aa06-1be9-417f-b2db-4806ac90d878",
   "metadata": {},
   "source": [
    "Q3. What is a Web API? Differentiate between API and Web API."
   ]
  },
  {
   "cell_type": "markdown",
   "id": "a277c032-e6bf-4bdc-9a69-befccce11eb7",
   "metadata": {},
   "source": [
    "Web API is a function for the web functionality,and it is interface the data accourding to web concept.\n",
    "\n",
    "\n",
    "Different between API and Web API.\n",
    "\n",
    "API(application programming interface):-\n",
    "1.api is the application to outer data frame.\n",
    "2.it is used these method to deployement.\n",
    "(TCP,SMP,HTTP)\n",
    "3.it is interace with the outer application with their protocol.\n",
    "\n",
    "\n",
    "Web API:-\n",
    "1.This is create by the HTTP only.\n",
    "2.It is interface with two machine based on the html code.\n",
    "3.REST and SOUP using this protocal to perform the inteface to the web application."
   ]
  },
  {
   "cell_type": "markdown",
   "id": "7098eee5-1086-4a66-81ca-2b9825cc0d89",
   "metadata": {},
   "source": [
    "Q4. Explain REST and SOAP Architecture. Mention shortcomings of SOAP."
   ]
  },
  {
   "cell_type": "markdown",
   "id": "a35b8030-d425-45a5-ab45-8ca7db9c95e2",
   "metadata": {},
   "source": [
    "REST stand for:- Reprentational state transfer\n",
    "In rest we can easly update the data.(PUT,GET,DELETE),it is simplicity,scalablity and flexiblity.we use HTTP method.\n",
    "SOAP stand for:-Simple object access protocols.\n",
    "It is more secure  as compare to REST, in this concept we use (XML and WSDL)\n",
    "It is update any data with easy way, their is complex method to udadate the data set of SOUP.\n",
    "\n",
    "As SOAP can only transfer messages as XML files, your SOAP API will be less performant,API calls made to your server will need more bandwidth and it will take more time to process the request and transfer the response back to the client.\n",
    "\n"
   ]
  },
  {
   "cell_type": "markdown",
   "id": "af19e392-0dad-481d-ba16-c680f599a68c",
   "metadata": {},
   "source": [
    "Q5. Differentiate between REST and SOAP.\n",
    "Rest is simple and updating Artichitecture and soap is more complex. \n",
    "Rest is easly access by the url by any one but soap is secure.\n",
    "Rest use (HTTP) but Soap use (TCP,SMTP) and XML and WSDL."
   ]
  }
 ],
 "metadata": {
  "kernelspec": {
   "display_name": "Python 3 (ipykernel)",
   "language": "python",
   "name": "python3"
  },
  "language_info": {
   "codemirror_mode": {
    "name": "ipython",
    "version": 3
   },
   "file_extension": ".py",
   "mimetype": "text/x-python",
   "name": "python",
   "nbconvert_exporter": "python",
   "pygments_lexer": "ipython3",
   "version": "3.10.8"
  }
 },
 "nbformat": 4,
 "nbformat_minor": 5
}
